{
 "cells": [
  {
   "cell_type": "markdown",
   "id": "c6860758-e614-4e0b-b9bb-3cc55af78e9c",
   "metadata": {},
   "source": [
    "# Intro"
   ]
  },
  {
   "cell_type": "markdown",
   "id": "82a37590-30ae-4d92-a889-0c173759fae9",
   "metadata": {},
   "source": [
    "Welcome to the interactive labeling notebook!\n",
    "\n",
    "The notebook proceeds as follows:\n",
    "\n",
    "1. **Import** libraries\n",
    "2. Define **paths** to data\n",
    "3. **Label** ROI images using a simple GUI\n",
    "4. **Visualize** results\n",
    "5. **Save** results\n",
    "\n",
    "\n",
    "<span style=\"background: orange; color: black;\">\n",
    "Note: Due to the GUI implementation, this notebook doesn't work in colab.\n",
    "</span>"
   ]
  },
  {
   "cell_type": "markdown",
   "id": "3e3bccb7",
   "metadata": {},
   "source": [
    "- If you need to restart a session, don't worry. Your results are continuously saved in the CSV file and you can just start from where you left off.\n",
    "- We recommend labeling one session at a time so that the results can be saved with the data."
   ]
  },
  {
   "cell_type": "markdown",
   "id": "c4a1f6ef-7075-4cc3-a046-dd170bb957b9",
   "metadata": {},
   "source": [
    "# Import libraries"
   ]
  },
  {
   "cell_type": "markdown",
   "id": "452c74a7-c5bb-4b8b-ad89-b52323b131b0",
   "metadata": {},
   "source": [
    "Widen the notebook"
   ]
  },
  {
   "cell_type": "code",
   "execution_count": null,
   "id": "68aa0919-eb8b-4abb-b87d-c60b5bd0b39d",
   "metadata": {},
   "outputs": [],
   "source": [
    "# widen jupyter notebook window\n",
    "from IPython.display import display, HTML\n",
    "display(HTML(\"<style>.container {width:95% !important; }</style>\"))\n",
    "display(HTML(\"<style>:root { --jp-notebook-max-width: 100% !important; }</style>\"))"
   ]
  },
  {
   "cell_type": "markdown",
   "id": "d0fe2758-1ac9-4a38-986e-5fd0dc26746b",
   "metadata": {},
   "source": [
    "Import basic libraries"
   ]
  },
  {
   "cell_type": "code",
   "execution_count": 2,
   "id": "da1adf6d-d3b0-4f15-8f9a-97569ef95272",
   "metadata": {},
   "outputs": [],
   "source": [
    "from pathlib import Path\n",
    "import tempfile\n",
    "\n",
    "import numpy as np\n",
    "from umap import UMAP\n",
    "import matplotlib.pyplot as plt"
   ]
  },
  {
   "cell_type": "markdown",
   "id": "3e77df19-80a4-4fa9-b7df-e19647d0727a",
   "metadata": {},
   "source": [
    "Import `roicat`"
   ]
  },
  {
   "cell_type": "code",
   "execution_count": 3,
   "id": "a76c9b80-07c8-40bd-b85d-130c3447dd8d",
   "metadata": {},
   "outputs": [],
   "source": [
    "import roicat"
   ]
  },
  {
   "cell_type": "markdown",
   "id": "670046e1-e139-4a5b-a946-57ba7e59794c",
   "metadata": {},
   "source": [
    "# Find paths to data"
   ]
  },
  {
   "cell_type": "markdown",
   "id": "872ed40f-14d1-47d5-82cb-27eb991e49e0",
   "metadata": {},
   "source": [
    "##### Prepare list of paths to data"
   ]
  },
  {
   "cell_type": "markdown",
   "id": "469b96a5-db27-418e-8f40-f62a6760f6d6",
   "metadata": {},
   "source": [
    "In this example we are using suite2p output files, but other data types can be used (CaImAn, etc.) \\\n",
    "See the notebook on ingesting diverse data: https://github.com/RichieHakim/ROICaT/blob/main/notebooks/jupyter/other/demo_data_importing.ipynb\n",
    "\n",
    "Make a list containing the paths to all the input files.\n",
    "\n",
    "In this example we are using suite2p, so the following are defined:\n",
    "1. `paths_allStat`: a list to all the stat.npy files\n",
    "2. `paths_allOps`: a list with ops.npy files that correspond 1-to-1 with the stat.npy files"
   ]
  },
  {
   "cell_type": "code",
   "execution_count": null,
   "id": "c99e0410",
   "metadata": {},
   "outputs": [],
   "source": [
    "dir_data = r'/media/rich/bigSSD/other_lab_data/Allen_institute/David_Feng'\n",
    "\n",
    "paths_stat = roicat.helpers.find_paths(\n",
    "    dir_outer=dir_data,\n",
    "    reMatch='stat\\.npy',\n",
    "    depth=5,\n",
    ")\n",
    "\n",
    "display(paths_stat)\n",
    "\n",
    "paths_ops = [str(Path(p).parent / 'ops.npy') for p in paths_stat]\n",
    "\n",
    "display(paths_ops)"
   ]
  },
  {
   "cell_type": "code",
   "execution_count": null,
   "id": "c182ac92-e186-44d4-af5f-3135200e8f26",
   "metadata": {},
   "outputs": [],
   "source": [
    "data = roicat.data_importing.Data_suite2p(\n",
    "    paths_statFiles=paths_stat,\n",
    "    paths_opsFiles=paths_ops,\n",
    "    new_or_old_suite2p='new',\n",
    "    verbose=True,\n",
    ")\n",
    "\n",
    "assert data.check_completeness(verbose=False)['classification_inference'], f\"Data object is missing attributes necessary for tracking.\""
   ]
  },
  {
   "cell_type": "markdown",
   "id": "bc688ada",
   "metadata": {},
   "source": [
    "# ROInet embedding\n",
    "\n",
    "This step passes the images of each ROI through the ROInet neural network. The inputs are the images, the output is an array describing the visual properties of each ROI."
   ]
  },
  {
   "cell_type": "markdown",
   "id": "24a8bb5e",
   "metadata": {},
   "source": [
    "##### 1. Initialize ROInet\n",
    "\n",
    "Initialize the ROInet object. The `ROInet_embedder` class will automatically download and load a pretrained ROInet model. If you have a GPU, this step will be much faster."
   ]
  },
  {
   "cell_type": "code",
   "execution_count": null,
   "id": "9a422338",
   "metadata": {},
   "outputs": [],
   "source": [
    "DEVICE = roicat.helpers.set_device(use_GPU=True, verbose=True)\n",
    "dir_temp = tempfile.gettempdir()\n",
    "\n",
    "roinet = roicat.ROInet.ROInet_embedder(\n",
    "    device=DEVICE,  ## Which torch device to use ('cpu', 'cuda', etc.)\n",
    "    dir_networkFiles=dir_temp,  ## Directory to download the pretrained network to\n",
    "    download_method='check_local_first',  ## Check to see if a model has already been downloaded to the location (will skip if hash matches)\n",
    "    download_url='https://osf.io/c8m3b/download',  ## URL of the model\n",
    "    download_hash='357a8d9b630ec79f3e015d0056a4c2d5',  ## Hash of the model file\n",
    "    forward_pass_version='head',  ## How the data is passed through the network\n",
    "    verbose=True,  ## Whether to print updates\n",
    ")\n",
    "\n",
    "roinet.generate_dataloader(\n",
    "    ROI_images=data.ROI_images,  ## Input images of ROIs\n",
    "    um_per_pixel=data.um_per_pixel,  ## Resolution of FOV\n",
    "    pref_plot=False,  ## Whether or not to plot the ROI sizes\n",
    ");\n",
    "images = roinet.ROI_images_rs"
   ]
  },
  {
   "cell_type": "markdown",
   "id": "a9e423ad",
   "metadata": {},
   "source": [
    "##### 2. Check ROI_images sizes\n",
    "In general, you want to see that a neuron fills roughly 25-50% of the area of the image. \\\n",
    "**Adjust `um_per_pixel` above to rescale image size**"
   ]
  },
  {
   "cell_type": "code",
   "execution_count": null,
   "id": "cf5c6fee",
   "metadata": {},
   "outputs": [],
   "source": [
    "roicat.visualization.display_toggle_image_stack(images[:1000], image_size=(200,200))"
   ]
  },
  {
   "cell_type": "markdown",
   "id": "54c93f54",
   "metadata": {},
   "source": [
    "##### 3. Pass data through network\n",
    "\n",
    "Pass the data through the network. Expect for large datasets (~40,000 ROIs) that this takes around 15 minutes on CPU or 1 minute on GPU."
   ]
  },
  {
   "cell_type": "code",
   "execution_count": null,
   "id": "1ca9b823",
   "metadata": {},
   "outputs": [],
   "source": [
    "roinet.generate_latents();"
   ]
  },
  {
   "cell_type": "markdown",
   "id": "788e5de1",
   "metadata": {},
   "source": [
    "# UMAP embedding\n",
    "\n",
    "Reduce the dimensionality of the output of ROInet (~100 dims) to 2 dimensions so that we can visualize it. Feel free to use any settings here that do a good job of clustering your data as you see fit."
   ]
  },
  {
   "cell_type": "code",
   "execution_count": null,
   "id": "db6a51e9",
   "metadata": {},
   "outputs": [],
   "source": [
    "model_umap = UMAP(\n",
    "    n_neighbors=25,\n",
    "    n_components=2,\n",
    "    n_epochs=400,\n",
    "    verbose=True,\n",
    "    densmap=False,\n",
    ")\n",
    "emb = model_umap.fit_transform(roinet.latents)"
   ]
  },
  {
   "cell_type": "markdown",
   "id": "9940b64f",
   "metadata": {},
   "source": [
    "# Label data"
   ]
  },
  {
   "cell_type": "markdown",
   "id": "229488f2",
   "metadata": {},
   "source": [
    "How to use this GUI:\n",
    "- Each image will be shown one at a time. You can go to previous and next images by using the ***Left*** and ***Right*** arrow keys, and can close the GUI by pressing the ***Escape*** key.\n",
    "- An embedding of the ROIs will be shown on the right with example images overlaid onto the scatterplot. You can use the lasso tool to draw a region around a section of the scatter plot to select ROIs for labeling, the selected ROIs will be made available to move through and label on the left. \n",
    "- You can turn off the overlays by pressing Control-Shift-T\n",
    "\n",
    "Labeling:\n",
    "- Identify several target regions in the embedding space. Lasso each region, and label a bunch of examples from within that region. \n",
    "- Label the image by pressing any key on your keyboard. This key will be used as the label. After each key press, the following occurs:\n",
    "    1. The results will be saved as a CSV file at `path_csv` (will be a temporary file if not specified)\n",
    "    2. The results will also be stored in the python object as `ImageLabeler_obj.labels_`.\n",
    "    2. The GUI should progress to the next image.\n",
    "    3. Finish labeling by closing out of the GUI window or pressing the user defined '`end_key`' (***Escape*** by default).\n",
    "- The results are stored in a temporary CSV file with two columns: 'index' and 'label'. This file can be used to recover lost labeling session data. We will save more comprehensive results files at the end of the notebook.\n",
    "    - **'index'**: The index within the data object. 0-indexed.\n",
    "    - **'label'**: The key pressed for that image in the labeling GUI."
   ]
  },
  {
   "cell_type": "code",
   "execution_count": 10,
   "id": "459503f8",
   "metadata": {},
   "outputs": [],
   "source": [
    "# The images are what we will label and will be shown on the left\n",
    "images = np.concatenate(data.ROI_images, axis=0)\n",
    "\n",
    "# The idx to the overlay images is designed to pick images to show that\n",
    "# are well spread out in the embedding space from UMAP\n",
    "idx_images_overlay = roicat.visualization.get_spread_out_points(\n",
    "    emb,\n",
    "    n_ims=min(emb.shape[0], 1500),  ## Select number of overlayed images here\n",
    "    dist_im_to_point=0.8,\n",
    ")"
   ]
  },
  {
   "cell_type": "code",
   "execution_count": null,
   "id": "88429888",
   "metadata": {},
   "outputs": [],
   "source": [
    "with roicat.helpers.IntegratedLabeler(\n",
    "    images,\n",
    "    embeddings=emb,\n",
    "    idx_images_overlay=idx_images_overlay,\n",
    "    size_images_overlay=0.25,\n",
    "    frac_overlap_allowed=0.25,\n",
    "    crop_images_overlay=0.25,\n",
    "    alpha_points=1.0,\n",
    "    size_points=3.0,\n",
    ") as labeler:\n",
    "    labeler.run()\n",
    "    \n",
    "labels = {\n",
    "    'list': labeler.get_labels(kind='list'),\n",
    "    'dict': labeler.get_labels(kind='dict'),\n",
    "    'df': labeler.get_labels(kind='dataframe'),\n",
    "}\n",
    "\n",
    "print(f\"Number of labeled ROIs: {len(labels['list'])}\")\n",
    "print(f\"path to csv file: {labeler.path_csv}\")"
   ]
  },
  {
   "cell_type": "markdown",
   "id": "dff959bb",
   "metadata": {},
   "source": [
    "# Visualize results"
   ]
  },
  {
   "cell_type": "code",
   "execution_count": null,
   "id": "f148ff17",
   "metadata": {},
   "outputs": [],
   "source": [
    "u, c = np.unique(labels['df']['label'], return_counts=True)\n",
    "\n",
    "plt.figure()\n",
    "plt.bar(u, c);\n",
    "plt.xlabel('label');\n",
    "plt.ylabel('counts');"
   ]
  },
  {
   "cell_type": "code",
   "execution_count": null,
   "id": "2b8990d8",
   "metadata": {},
   "outputs": [],
   "source": [
    "roicat.visualization.display_labeled_ROIs(\n",
    "    images=images,\n",
    "#     labels=labels['label'].astype(np.int64),\n",
    "    labels=labels['df'],\n",
    "    max_images_per_label=10,\n",
    "    figsize=(10, 3),\n",
    "    fontsize=25,\n",
    "    shuffle=False,\n",
    ")"
   ]
  },
  {
   "cell_type": "markdown",
   "id": "53667b6f-0bb0-4738-8878-754998be0a55",
   "metadata": {},
   "source": [
    "# Save results\n",
    "\n",
    "The results file can be opened using any of the following methods:\n",
    "1. `roicat.helpers.pickle_load(path)`\n",
    "2. `np.load(path)`\n",
    "3. \n",
    "``` \n",
    "import pickle\n",
    "with open(path_save, mode='rb') as f:\n",
    "    test = pickle.load(f)\n",
    "  ```"
   ]
  },
  {
   "cell_type": "markdown",
   "id": "2b05ce96",
   "metadata": {},
   "source": [
    "##### Make and save results"
   ]
  },
  {
   "cell_type": "code",
   "execution_count": 14,
   "id": "9fdf21bc",
   "metadata": {},
   "outputs": [],
   "source": [
    "run_data = {\n",
    "    \"data\": data.__dict__,\n",
    "}\n",
    "results = {\n",
    "    \"labels\": labels,\n",
    "    \"images\": images,\n",
    "}"
   ]
  },
  {
   "cell_type": "code",
   "execution_count": null,
   "id": "c3b276ea",
   "metadata": {},
   "outputs": [],
   "source": [
    "## Define the directory to save the results to\n",
    "dir_save = '/media/rich/bigSSD/data_tmp/test_data/'\n",
    "name_save = 'mouse_1'\n",
    "\n",
    "paths_save = {\n",
    "    'labels':   str(Path(dir_save) / f'{name_save}.labeling.labels.csv'),\n",
    "    'results':  str(Path(dir_save) / f'{name_save}.labeling.results.richfile'),\n",
    "    'run_data': str(Path(dir_save) / f'{name_save}.labeling.run_data.richfile'),\n",
    "}\n",
    "\n",
    "## Save\n",
    "labels['df'].to_csv(paths_save['labels'])\n",
    "roicat.util.RichFile_ROICaT(path=paths_save['results']).save(results, overwrite=True)\n",
    "roicat.util.RichFile_ROICaT(path=paths_save['run_data']).save(run_data, overwrite=True)"
   ]
  },
  {
   "cell_type": "markdown",
   "id": "d3a77d9f-a95c-4533-9df7-07f105595630",
   "metadata": {},
   "source": [
    "# Thank you\n",
    "If you encountered any difficulties, please let us know at the issues page: https://github.com/RichieHakim/ROICaT/issues"
   ]
  },
  {
   "cell_type": "markdown",
   "id": "bbc6f6de",
   "metadata": {},
   "source": [
    "---\n",
    "# Extras"
   ]
  },
  {
   "cell_type": "markdown",
   "id": "9d17a236",
   "metadata": {},
   "source": [
    "## Merge and convert GUI CSV files into a results file"
   ]
  },
  {
   "cell_type": "markdown",
   "id": "dde9a8a1",
   "metadata": {},
   "source": [
    "##### 1. Make labels dictionary"
   ]
  },
  {
   "cell_type": "code",
   "execution_count": 99,
   "id": "c10c79e7",
   "metadata": {},
   "outputs": [],
   "source": [
    "import csv\n",
    "\n",
    "# path_csv = r'/home/rich/Desktop/test.csv'  ## Path to the raw output .csv file from the GUI\n",
    "path_csv = labeler.path_csv\n",
    "\n",
    "with open(path_csv, 'r') as f:\n",
    "    lines = np.array([line for line in csv.reader(f)], dtype=str)\n",
    "\n",
    "labels_dict = {int(idx): label for idx, label in zip(lines[1:, 0], lines[1:, 1])}"
   ]
  },
  {
   "cell_type": "markdown",
   "id": "ae8831b6",
   "metadata": {},
   "source": [
    "##### 2. Make images array"
   ]
  },
  {
   "cell_type": "code",
   "execution_count": null,
   "id": "4e69f525",
   "metadata": {},
   "outputs": [],
   "source": [
    "dir_data = r'/media/rich/bigSSD/downloads_tmp/tmp_data/mouse_0322R/statFiles/20230420/'\n",
    "\n",
    "\n",
    "path_stat = str(Path(dir_data) / 'stat.npy')\n",
    "path_ops = str(Path(dir_data) / 'ops.npy')\n",
    "\n",
    "data = roicat.data_importing.Data_suite2p(\n",
    "    paths_statFiles=[path_stat],\n",
    "    paths_opsFiles=[path_ops],\n",
    "    new_or_old_suite2p='new',\n",
    "    verbose=True,\n",
    ")\n",
    "\n",
    "assert data.check_completeness(verbose=False)['classification_inference'], f\"Data object is missing attributes necessary for tracking.\"\n",
    "\n",
    "images = np.concatenate(data.ROI_images, axis=0)"
   ]
  },
  {
   "cell_type": "markdown",
   "id": "51f24fc8",
   "metadata": {},
   "source": [
    "##### 3. Make the results dictionary"
   ]
  },
  {
   "cell_type": "code",
   "execution_count": 103,
   "id": "34cd5440",
   "metadata": {},
   "outputs": [],
   "source": [
    "import pandas as pd\n",
    "\n",
    "labels_list = ['None'] * len(labels_dict)\n",
    "for idx, label in labels_dict.items():\n",
    "    labels_list[idx] = label\n",
    "\n",
    "labels_df = pd.DataFrame(index=list(labels_dict.keys()), data=labels_list, columns=['label'])\n",
    "\n",
    "labels = {\n",
    "    'list': roicat.util.JSON_List(labels_list),\n",
    "    'dict': roicat.util.JSON_Dict(labels_dict),\n",
    "    'df': labels_df,\n",
    "}"
   ]
  },
  {
   "cell_type": "code",
   "execution_count": 104,
   "id": "86700770",
   "metadata": {},
   "outputs": [],
   "source": [
    "run_data = {\n",
    "    \"data\": data.__dict__,\n",
    "}\n",
    "results = {\n",
    "    \"labels\": labels,\n",
    "    \"images\": images,\n",
    "}"
   ]
  },
  {
   "cell_type": "markdown",
   "id": "5c853297",
   "metadata": {},
   "source": [
    "##### 4. Save the results dictionary"
   ]
  },
  {
   "cell_type": "code",
   "execution_count": null,
   "id": "efefa1af",
   "metadata": {},
   "outputs": [],
   "source": [
    "## Define the directory to save the results to\n",
    "dir_save = '/media/rich/bigSSD/data_tmp/test_data/'\n",
    "name_save = 'mouse_1'\n",
    "\n",
    "paths_save = {\n",
    "    'labels':   str(Path(dir_save) / f'{name_save}.labeling.labels.json'),\n",
    "    'results':  str(Path(dir_save) / f'{name_save}.labeling.results.richfile'),\n",
    "    'run_data': str(Path(dir_save) / f'{name_save}.labeling.run_data.richfile'),\n",
    "}\n",
    "\n",
    "roicat.helpers.json_save(obj=roicat.util.JSON_List(labels['list']), filepath=paths_save['labels'])\n",
    "roicat.util.RichFile_ROICaT(path=paths_save['results']).save(results, overwrite=True)\n",
    "roicat.util.RichFile_ROICaT(path=paths_save['run_data']).save(run_data, overwrite=True)"
   ]
  },
  {
   "cell_type": "code",
   "execution_count": null,
   "id": "725c4f38",
   "metadata": {},
   "outputs": [],
   "source": []
  }
 ],
 "metadata": {
  "kernelspec": {
   "display_name": "analysis",
   "language": "python",
   "name": "python3"
  },
  "language_info": {
   "codemirror_mode": {
    "name": "ipython",
    "version": 3
   },
   "file_extension": ".py",
   "mimetype": "text/x-python",
   "name": "python",
   "nbconvert_exporter": "python",
   "pygments_lexer": "ipython3",
   "version": "3.11.10"
  }
 },
 "nbformat": 4,
 "nbformat_minor": 5
}
